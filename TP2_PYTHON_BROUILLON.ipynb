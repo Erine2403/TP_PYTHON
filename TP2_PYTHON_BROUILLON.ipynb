{
 "cells": [
  {
   "cell_type": "markdown",
   "metadata": {},
   "source": [
    "IMPORT DES MODULES "
   ]
  },
  {
   "cell_type": "code",
   "execution_count": 4,
   "metadata": {},
   "outputs": [],
   "source": [
    "import random\n",
    "import re \n",
    "import os  # Importer os pour vérifier l'existence des fichiers\n",
    "import logging"
   ]
  },
  {
   "cell_type": "markdown",
   "metadata": {},
   "source": [
    "#EXO 1 :\n",
    " ### 1. Devine le \n",
    "  ### 1. Devine le nombre\n",
    " Pour commencer l'ordinateur va choisir au hasard un nombre compris entre 1 et \n",
    "100.\n",
    " L'utilisateur doit alors deviner ce nombre comme ceci :\n",
    " L'utilisateur propose un nombre. l'ordinateur lui dit s'il est trop petit ou \n",
    "trop grand, et ainsi de suite jusqu'à ce que l'utilisateur trouve le bon nombre"
   ]
  },
  {
   "cell_type": "code",
   "execution_count": 2,
   "metadata": {},
   "outputs": [],
   "source": [
    "def devine_le_nombre():\n",
    "    nombre_secret = random.randint(1, 100)\n",
    "    essais = 0\n",
    "    print(\" Un nombre a été choisi entre 1 et 100.\")\n",
    "\n",
    "    while True:\n",
    "        try:\n",
    "            # l'utilisateur doit faire une proposition\n",
    "            proposition = int(input(\"Faites votre proposition : \"))\n",
    "            essais += 1\n",
    "\n",
    "            if proposition < nombre_secret:\n",
    "                print(\"Trop petit !\")\n",
    "            elif proposition > nombre_secret:\n",
    "                print(\"Trop grand !\")\n",
    "            else:\n",
    "                print(f\"Bravo ! Vous avez trouvé le nombre {nombre_secret} en {essais} essais.\")\n",
    "                break\n",
    "        except ValueError:\n",
    "            print(\"Veuillez entrer un nombre valide.\")\n",
    "\n",
    "\n"
   ]
  },
  {
   "cell_type": "code",
   "execution_count": 3,
   "metadata": {},
   "outputs": [
    {
     "name": "stdout",
     "output_type": "stream",
     "text": [
      " Un nombre a été choisi entre 1 et 100.\n",
      "Trop grand !\n",
      "Trop grand !\n",
      "Trop grand !\n",
      "Trop petit !\n",
      "Trop grand !\n",
      "Trop grand !\n",
      "Trop grand !\n",
      "Trop grand !\n",
      "Bravo ! Vous avez trouvé le nombre 11 en 9 essais.\n"
     ]
    }
   ],
   "source": [
    "devine_le_nombre()"
   ]
  },
  {
   "cell_type": "markdown",
   "metadata": {},
   "source": [
    "EXO  2 :\n",
    " ### 2. Compter les mots\n",
    " Ecrire un programme qui demande le nom d'un fichier .txt à l'utilisateur. Le \n",
    "fichier devra se trouver dans le même dossier que le script Python.\n",
    " Le programme devra compter le nombre de fois que le mot \"python\" est écrit dans \n",
    "le fichier et l'afficher à l'écran. En cas d'échec de lecture du fichier saisi \n",
    "par l'utilisateur, le programme demande à l'utilisateur une nouvelle saisie \n",
    "(maximum 3 essais). Au bout de trois tentatives infructueuses, le programme \n",
    "affiche un message d'erreur et quitte.\n",
    " Comme exemple, vous pourrez copier-coller un morceau de n'importe quelle \n",
    "documentation de python dans un fichier texte."
   ]
  },
  {
   "cell_type": "markdown",
   "metadata": {},
   "source": [
    "a- *Ecrivons un programme  qui va créer des fichier txt en amont avec le mot python mis de façon aléatoire dedans*"
   ]
  },
  {
   "cell_type": "code",
   "execution_count": 9,
   "metadata": {},
   "outputs": [],
   "source": [
    "texte = (\n",
    "    \"This change is designed to make annotations in Python more performant and more usable in mostPython circumstances. \"\n",
    "    \"The runtime cost for defining annotations Python is minimized, but it Python remains possible to introspect annotations at runtime. \"\n",
    "    \"It is usually no longer necessary to enclose annotations in strings if they contain forward references. \"\n",
    "    \"The Python new annotationlib module provides tools for inspecting deferred annotations. Annotations Python may be Python evaluated in the \"\n",
    "    \"VALUE Python format (which evaluates annotations to runtime values, similar to the behavior in earlier Python versions), \"\n",
    "    \"the Python FORWARDREF format (which replaces undefined names with special markers), and Python the STRING format (which returns annotations as strings). \"\n",
    "    \"Related changes. The changes in Python 3.14 are designed to rework how __annotations__ works Python at runtime while minimizing breakage to code that contains annotations in source code and to code that reads __annotations__. \"\n",
    "    \"However, if you rely Python on undocumented details of the annotation behavior or on private Pythonfunctions in the standard library, \"\n",
    "    \"there are many ways in which Python your code may not work in Python 3.14. To safeguard your code against Python future changes,Python use only the documented Python functionality.\"\n",
    ")\n",
    "\n",
    "# Fragmenter le texte en phrases\n",
    "phrases = texte.split('. ')\n",
    "random.shuffle(phrases)  # Mélanger les phrases pour une distribution aléatoire\n",
    "\n",
    "def creer_fichiers():\n",
    "    for i in range(1, 4):\n",
    "        # Générer un nombre aléatoire de phrases à écrire\n",
    "        nombre = random.randint(1, len(phrases))\n",
    "        # Sélectionner des phrases aléatoires\n",
    "        contenu = '. '.join(phrases[:nombre]) + '.'  # Ajouter un point final\n",
    "        # Écrire le contenu dans le fichier\n",
    "        with open(f\"fichier_{i}.txt\", 'w', encoding='utf-8') as file:\n",
    "            file.write(contenu.strip())  # Enlever l'espace à la fin\n",
    "\n",
    "\n",
    "\n"
   ]
  },
  {
   "cell_type": "code",
   "execution_count": 10,
   "metadata": {},
   "outputs": [],
   "source": [
    "\n",
    "logging.basicConfig(level=logging.INFO, format='%(asctime)s - %(levelname)s - %(message)s')\n",
    "texte = (\n",
    "    \"This change is designed to make annotations in Python more performant and more usable in mostPython circumstances. \"\n",
    "    \"The runtime cost for defining annotations Python is minimized, but it Python remains possible to introspect annotations at runtime. \"\n",
    "    \"It is usually no longer necessary to enclose annotations in strings if they contain forward references. \"\n",
    "    \"The Python new annotationlib module provides tools for inspecting deferred annotations. Annotations Python may be Python evaluated in the \"\n",
    "    \"VALUE Python format (which evaluates annotations to runtime values, similar to the behavior in earlier Python versions), \"\n",
    "    \"the Python FORWARDREF format (which replaces undefined names with special markers), and Python the STRING format (which returns annotations as strings). \"\n",
    "    \"Related changes. The changes in Python 3.14 are designed to rework how __annotations__ works Python at runtime while minimizing breakage to code that contains annotations in source code and to code that reads __annotations__. \"\n",
    "    \"However, if you rely Python on undocumented details of the annotation behavior or on private Python functions in the standard library, \"\n",
    "    \"there are many ways in which Python your code may not work in Python 3.14. To safeguard your code against Python future changes,Python use only the documented Python functionality.\"\n",
    ")\n",
    "\n",
    "# Fragmenter le texte en phrases\n",
    "phrases = texte.split('. ')\n",
    "random.shuffle(phrases)  # Mélanger les phrases pour une distribution aléatoire\n",
    "\n",
    "def creer_fichiers():\n",
    "    for i in range(1, 4):\n",
    "        filename = f\"fichier_{i}.txt\"\n",
    "        # Vérifier si le fichier existe déjà\n",
    "        if os.path.exists(filename):\n",
    "            logging.info(f\"Le fichier '{filename}' existe déjà. Il ne sera pas créé.\")\n",
    "            \n",
    "            continue  # Passer au fichier suivant\n",
    "\n",
    "        # Générer un nombre aléatoire de phrases à écrire\n",
    "        nombre = random.randint(1, len(phrases))\n",
    "        # Sélectionner des phrases aléatoires\n",
    "        contenu = '. '.join(phrases[:nombre]) + '.'  # Ajouter un point final\n",
    "\n",
    "        try:\n",
    "            # Écrire le contenu dans le fichier\n",
    "            with open(filename, 'w', encoding='utf-8') as file:\n",
    "                file.write(contenu.strip())  # Enlever l'espace à la fin\n",
    "            logging.info(f\"Fichier '{filename}' créé avec succès.\")\n",
    "        except Exception as e:\n",
    "            logging.info(f\"Erreur lors de la création du fichier '{filename}': {e}\")\n",
    "     "
   ]
  },
  {
   "cell_type": "code",
   "execution_count": 11,
   "metadata": {},
   "outputs": [],
   "source": [
    " # Créer les fichiers\n",
    "logging.info(\"Démarrage de l'application.\")\n",
    "creer_fichiers() \n",
    "logging.info(\"Fin de l'application.\")"
   ]
  },
  {
   "cell_type": "code",
   "execution_count": 20,
   "metadata": {},
   "outputs": [],
   "source": [
    "\n",
    "def choisir_fichier():\n",
    "    essais = 0\n",
    "    max_essais = 3\n",
    "    while essais < max_essais:\n",
    "        filename = input(\"Entrez le nom du fichier à lire (fichier_1.txt, fichier_2.txt, fichier_3.txt) : \")\n",
    "        try:\n",
    "            with open(filename, 'r', encoding='utf-8') as file:\n",
    "                contenu = file.read()\n",
    "                # Utiliser une expression régulière pour compter toutes les variations du mot \"python\"\n",
    "                count = len(re.findall(r'\\bpython\\b', contenu, re.IGNORECASE))\n",
    "                print(f\"Le mot 'python' apparaît {count} fois dans le fichier '{filename}'.\")\n",
    "                break\n",
    "        except FileNotFoundError:\n",
    "            essais += 1\n",
    "            print(f\"Erreur : le fichier '{filename}' n'a pas été trouvé. Essai {essais}/{max_essais}.\")\n",
    "\n",
    "    if essais == max_essais:\n",
    "        print(\"Nombre maximum de tentatives atteint. Le programme va quitter.\")\n"
   ]
  },
  {
   "cell_type": "code",
   "execution_count": 22,
   "metadata": {},
   "outputs": [
    {
     "name": "stdout",
     "output_type": "stream",
     "text": [
      "Le mot 'python' apparaît 11 fois dans le fichier 'fichier_1.txt'.\n"
     ]
    }
   ],
   "source": [
    "choisir_fichier()"
   ]
  }
 ],
 "metadata": {
  "kernelspec": {
   "display_name": "base",
   "language": "python",
   "name": "python3"
  },
  "language_info": {
   "codemirror_mode": {
    "name": "ipython",
    "version": 3
   },
   "file_extension": ".py",
   "mimetype": "text/x-python",
   "name": "python",
   "nbconvert_exporter": "python",
   "pygments_lexer": "ipython3",
   "version": "3.12.4"
  }
 },
 "nbformat": 4,
 "nbformat_minor": 2
}
